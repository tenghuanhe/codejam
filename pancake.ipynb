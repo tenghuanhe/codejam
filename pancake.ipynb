{
 "cells": [
  {
   "cell_type": "code",
   "execution_count": 3,
   "metadata": {
    "collapsed": false
   },
   "outputs": [],
   "source": [
    "def solution(ps, c):\n",
    "    ps = list(ps)\n",
    "    i = 0\n",
    "    pack = 0\n",
    "    while i < len(ps):\n",
    "        if ps[i] == '+':\n",
    "            i += 1\n",
    "        else:\n",
    "            if i <= len(ps) - c:\n",
    "                for j in range(c):\n",
    "                    if ps[i + j] == '+':\n",
    "                        ps[i + j] = '-'\n",
    "                    else:\n",
    "                        ps[i + j] = '+'\n",
    "                pack += 1\n",
    "            else:\n",
    "                break\n",
    "    if '-' in ps:\n",
    "        return 'IMPOSSIBLE'\n",
    "    else:\n",
    "        return str(pack)"
   ]
  },
  {
   "cell_type": "code",
   "execution_count": 4,
   "metadata": {
    "collapsed": false
   },
   "outputs": [],
   "source": [
    "def sol(inputFile):\n",
    "    res = ''\n",
    "    with open(inputFile) as f:\n",
    "        lineNumber = int(f.readline())\n",
    "        for i in range(lineNumber):\n",
    "            line = f.readline()\n",
    "            ps = line.split(' ')[0]\n",
    "            c = int(line.split(' ')[1])\n",
    "            res += 'Case #' + str(i + 1) + ': ' + solution(ps, c) + '\\n'\n",
    "    with open(inputFile.replace('.in', '.out'), 'w') as fo:\n",
    "        fo.write(res)\n",
    "    return res"
   ]
  },
  {
   "cell_type": "code",
   "execution_count": 5,
   "metadata": {
    "collapsed": false
   },
   "outputs": [
    {
     "name": "stdout",
     "output_type": "stream",
     "text": [
      "Case #1: 3\n",
      "Case #2: 0\n",
      "Case #3: IMPOSSIBLE\n",
      "Case #4: 500\n",
      "Case #5: 64\n",
      "Case #6: IMPOSSIBLE\n",
      "Case #7: IMPOSSIBLE\n",
      "Case #8: IMPOSSIBLE\n",
      "Case #9: 999\n",
      "Case #10: 212\n",
      "Case #11: IMPOSSIBLE\n",
      "Case #12: 51\n",
      "Case #13: IMPOSSIBLE\n",
      "Case #14: IMPOSSIBLE\n",
      "Case #15: 89\n",
      "Case #16: 3\n",
      "Case #17: IMPOSSIBLE\n",
      "Case #18: 2\n",
      "Case #19: 1\n",
      "Case #20: 4\n",
      "Case #21: IMPOSSIBLE\n",
      "Case #22: 30\n",
      "Case #23: IMPOSSIBLE\n",
      "Case #24: IMPOSSIBLE\n",
      "Case #25: 16\n",
      "Case #26: 3\n",
      "Case #27: IMPOSSIBLE\n",
      "Case #28: 9\n",
      "Case #29: IMPOSSIBLE\n",
      "Case #30: IMPOSSIBLE\n",
      "Case #31: IMPOSSIBLE\n",
      "Case #32: 75\n",
      "Case #33: IMPOSSIBLE\n",
      "Case #34: 92\n",
      "Case #35: 0\n",
      "Case #36: 0\n",
      "Case #37: IMPOSSIBLE\n",
      "Case #38: IMPOSSIBLE\n",
      "Case #39: 500\n",
      "Case #40: 5\n",
      "Case #41: IMPOSSIBLE\n",
      "Case #42: IMPOSSIBLE\n",
      "Case #43: 1\n",
      "Case #44: IMPOSSIBLE\n",
      "Case #45: IMPOSSIBLE\n",
      "Case #46: 224\n",
      "Case #47: 8\n",
      "Case #48: 17\n",
      "Case #49: IMPOSSIBLE\n",
      "Case #50: IMPOSSIBLE\n",
      "Case #51: 135\n",
      "Case #52: IMPOSSIBLE\n",
      "Case #53: 1\n",
      "Case #54: IMPOSSIBLE\n",
      "Case #55: IMPOSSIBLE\n",
      "Case #56: 50\n",
      "Case #57: 147\n",
      "Case #58: IMPOSSIBLE\n",
      "Case #59: 397\n",
      "Case #60: 29\n",
      "Case #61: 11\n",
      "Case #62: 161\n",
      "Case #63: IMPOSSIBLE\n",
      "Case #64: IMPOSSIBLE\n",
      "Case #65: 5\n",
      "Case #66: IMPOSSIBLE\n",
      "Case #67: 998\n",
      "Case #68: 500\n",
      "Case #69: IMPOSSIBLE\n",
      "Case #70: 132\n",
      "Case #71: IMPOSSIBLE\n",
      "Case #72: IMPOSSIBLE\n",
      "Case #73: IMPOSSIBLE\n",
      "Case #74: 2\n",
      "Case #75: IMPOSSIBLE\n",
      "Case #76: IMPOSSIBLE\n",
      "Case #77: 25\n",
      "Case #78: IMPOSSIBLE\n",
      "Case #79: 1\n",
      "Case #80: IMPOSSIBLE\n",
      "Case #81: IMPOSSIBLE\n",
      "Case #82: 0\n",
      "Case #83: IMPOSSIBLE\n",
      "Case #84: IMPOSSIBLE\n",
      "Case #85: 250\n",
      "Case #86: 333\n",
      "Case #87: IMPOSSIBLE\n",
      "Case #88: 9\n",
      "Case #89: IMPOSSIBLE\n",
      "Case #90: IMPOSSIBLE\n",
      "Case #91: 68\n",
      "Case #92: 355\n",
      "Case #93: 15\n",
      "Case #94: IMPOSSIBLE\n",
      "Case #95: IMPOSSIBLE\n",
      "Case #96: 50\n",
      "Case #97: IMPOSSIBLE\n",
      "Case #98: 1\n",
      "Case #99: IMPOSSIBLE\n",
      "Case #100: 1\n",
      "\n"
     ]
    }
   ],
   "source": [
    "print sol('A-large-practice.in')"
   ]
  },
  {
   "cell_type": "code",
   "execution_count": null,
   "metadata": {
    "collapsed": true
   },
   "outputs": [],
   "source": []
  }
 ],
 "metadata": {
  "kernelspec": {
   "display_name": "Python 2",
   "language": "python",
   "name": "python2"
  },
  "language_info": {
   "codemirror_mode": {
    "name": "ipython",
    "version": 2
   },
   "file_extension": ".py",
   "mimetype": "text/x-python",
   "name": "python",
   "nbconvert_exporter": "python",
   "pygments_lexer": "ipython2",
   "version": "2.7.10"
  }
 },
 "nbformat": 4,
 "nbformat_minor": 2
}
